{
 "cells": [
  {
   "cell_type": "code",
   "execution_count": 1,
   "metadata": {},
   "outputs": [],
   "source": [
    "import paho.mqtt.client as mqtt"
   ]
  },
  {
   "cell_type": "code",
   "execution_count": null,
   "metadata": {},
   "outputs": [
    {
     "name": "stdout",
     "output_type": "stream",
     "text": [
      "Connected with result code 0\n",
      "Valerio/myRoomTemperature - <paho.mqtt.client.MQTTMessage object at 0x7f454c04c350>\n",
      "Valerio/myRoomHumidity - <paho.mqtt.client.MQTTMessage object at 0x7f454c04c3d0>\n",
      "Valerio/myRoomTemperature - <paho.mqtt.client.MQTTMessage object at 0x7f454c04c350>\n",
      "Valerio/myRoomHumidity - <paho.mqtt.client.MQTTMessage object at 0x7f454c04c3d0>\n",
      "Valerio/myRoomTemperature - <paho.mqtt.client.MQTTMessage object at 0x7f454c04c350>\n",
      "Valerio/myRoomHumidity - <paho.mqtt.client.MQTTMessage object at 0x7f454c04c3d0>\n",
      "Valerio/myRoomTemperature - <paho.mqtt.client.MQTTMessage object at 0x7f454c04c3d0>\n",
      "Valerio/myRoomHumidity - <paho.mqtt.client.MQTTMessage object at 0x7f454c04c350>\n",
      "Valerio/myRoomTemperature - <paho.mqtt.client.MQTTMessage object at 0x7f454c04c3d0>\n",
      "Valerio/myRoomHumidity - <paho.mqtt.client.MQTTMessage object at 0x7f454c04c350>\n",
      "Valerio/myRoomTemperature - <paho.mqtt.client.MQTTMessage object at 0x7f454c04c3d0>\n",
      "Valerio/myRoomHumidity - <paho.mqtt.client.MQTTMessage object at 0x7f454c04c350>\n",
      "Valerio/myRoomTemperature - <paho.mqtt.client.MQTTMessage object at 0x7f454c04c3d0>\n",
      "Valerio/myRoomHumidity - <paho.mqtt.client.MQTTMessage object at 0x7f454c04c350>\n",
      "Valerio/myRoomTemperature - <paho.mqtt.client.MQTTMessage object at 0x7f454c04c3d0>\n",
      "Valerio/myRoomHumidity - <paho.mqtt.client.MQTTMessage object at 0x7f454c04c3d0>\n",
      "Valerio/myRoomTemperature - <paho.mqtt.client.MQTTMessage object at 0x7f454c04c350>\n",
      "Valerio/myRoomHumidity - <paho.mqtt.client.MQTTMessage object at 0x7f454c04c3d0>\n",
      "Valerio/myRoomTemperature - <paho.mqtt.client.MQTTMessage object at 0x7f454c04c350>\n",
      "Valerio/myRoomHumidity - <paho.mqtt.client.MQTTMessage object at 0x7f454c04c3d0>\n"
     ]
    }
   ],
   "source": [
    "# The callback for when the client receives a CONNACK response from the server.\n",
    "def on_connect(client, userdata, flags, rc):\n",
    "    print(\"Connected with result code \"+str(rc))\n",
    "\n",
    "    # Subscribing in on_connect() means that if we lose the connection and\n",
    "    # reconnect then subscriptions will be renewed.\n",
    "    client.subscribe(\"Valerio/#\")\n",
    "\n",
    "# The callback for when a PUBLISH message is received from the server.\n",
    "def on_message(client, userdata, msg):\n",
    "    print(msg.topic+\" - \"+str(msg.payload))\n",
    "\n",
    "client = mqtt.Client()\n",
    "client.on_connect = on_connect\n",
    "client.on_message = on_message\n",
    "\n",
    "client.connect(\"mqtt.atrent.it\", 1883, 60)\n",
    "\n",
    "# Blocking call that processes network traffic, dispatches callbacks and\n",
    "# handles reconnecting.\n",
    "# Other loop*() functions are available that give a threaded interface and a\n",
    "# manual interface.\n",
    "client.loop_forever()"
   ]
  }
 ],
 "metadata": {
  "kernelspec": {
   "display_name": "Python 3",
   "language": "python",
   "name": "python3"
  },
  "language_info": {
   "codemirror_mode": {
    "name": "ipython",
    "version": 3
   },
   "file_extension": ".py",
   "mimetype": "text/x-python",
   "name": "python",
   "nbconvert_exporter": "python",
   "pygments_lexer": "ipython3",
   "version": "3.7.6"
  }
 },
 "nbformat": 4,
 "nbformat_minor": 4
}
